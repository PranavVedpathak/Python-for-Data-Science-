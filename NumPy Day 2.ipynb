{
 "cells": [
  {
   "cell_type": "code",
   "execution_count": 1,
   "id": "b55af42e-9cba-4157-9ef5-cf296c16b252",
   "metadata": {},
   "outputs": [],
   "source": [
    "import numpy as np"
   ]
  },
  {
   "cell_type": "code",
   "execution_count": 23,
   "id": "93cf414b-2482-4642-961f-18aaa1522a75",
   "metadata": {},
   "outputs": [],
   "source": [
    "def info_array(a):\n",
    "    print(\"Dimension - \",a.ndim)\n",
    "    print(\"shape - \", a.shape)\n",
    "    print(\"size(No. Of Elements) - \",a.size)\n",
    "    print(\"Datatype - \",a.dtype)"
   ]
  },
  {
   "cell_type": "code",
   "execution_count": 4,
   "id": "f67fccb8-34c2-47cf-a7c8-6dd25b5a7280",
   "metadata": {},
   "outputs": [
    {
     "data": {
      "text/plain": [
       "array([ 0,  1,  2,  3,  4,  5,  6,  7,  8,  9, 10, 11])"
      ]
     },
     "execution_count": 4,
     "metadata": {},
     "output_type": "execute_result"
    }
   ],
   "source": [
    "arr1 = np.arange(12)\n",
    "arr1"
   ]
  },
  {
   "cell_type": "code",
   "execution_count": 6,
   "id": "ed86dcb6-6978-4e2d-9a10-ddf026a79ee2",
   "metadata": {},
   "outputs": [
    {
     "data": {
      "text/plain": [
       "1"
      ]
     },
     "execution_count": 6,
     "metadata": {},
     "output_type": "execute_result"
    }
   ],
   "source": [
    "arr1.ndim"
   ]
  },
  {
   "cell_type": "code",
   "execution_count": 7,
   "id": "bc10cc8f-e9da-44c4-8788-cd53ca51bcc0",
   "metadata": {},
   "outputs": [
    {
     "data": {
      "text/plain": [
       "(12,)"
      ]
     },
     "execution_count": 7,
     "metadata": {},
     "output_type": "execute_result"
    }
   ],
   "source": [
    "arr1.shape"
   ]
  },
  {
   "cell_type": "code",
   "execution_count": 8,
   "id": "de921b44-4e62-44f0-a5cb-c6ce279f5e4d",
   "metadata": {},
   "outputs": [
    {
     "data": {
      "text/plain": [
       "dtype('int32')"
      ]
     },
     "execution_count": 8,
     "metadata": {},
     "output_type": "execute_result"
    }
   ],
   "source": [
    "arr1.dtype"
   ]
  },
  {
   "cell_type": "code",
   "execution_count": 9,
   "id": "8036ffe1-f686-4f09-a09a-d6eeab6d4383",
   "metadata": {},
   "outputs": [
    {
     "data": {
      "text/plain": [
       "12"
      ]
     },
     "execution_count": 9,
     "metadata": {},
     "output_type": "execute_result"
    }
   ],
   "source": [
    "arr1.size"
   ]
  },
  {
   "cell_type": "code",
   "execution_count": 14,
   "id": "1832bbb7-d4cc-49da-aaa0-fafc2a8ec89e",
   "metadata": {},
   "outputs": [
    {
     "data": {
      "text/plain": [
       "array([1.        , 1.03030303, 1.06060606, 1.09090909, 1.12121212,\n",
       "       1.15151515, 1.18181818, 1.21212121, 1.24242424, 1.27272727,\n",
       "       1.3030303 , 1.33333333, 1.36363636, 1.39393939, 1.42424242,\n",
       "       1.45454545, 1.48484848, 1.51515152, 1.54545455, 1.57575758,\n",
       "       1.60606061, 1.63636364, 1.66666667, 1.6969697 , 1.72727273,\n",
       "       1.75757576, 1.78787879, 1.81818182, 1.84848485, 1.87878788,\n",
       "       1.90909091, 1.93939394, 1.96969697, 2.        ])"
      ]
     },
     "execution_count": 14,
     "metadata": {},
     "output_type": "execute_result"
    }
   ],
   "source": [
    "arr2 = np.linspace(1,2,34)\n",
    "arr2"
   ]
  },
  {
   "cell_type": "code",
   "execution_count": 15,
   "id": "2b9830dc-5493-4a15-8fb0-f9f9637d38bd",
   "metadata": {},
   "outputs": [
    {
     "data": {
      "text/plain": [
       "array([10., 17., 24., 31., 38., 45.])"
      ]
     },
     "execution_count": 15,
     "metadata": {},
     "output_type": "execute_result"
    }
   ],
   "source": [
    "arr3 = np.linspace(10,45,6)\n",
    "arr3"
   ]
  },
  {
   "cell_type": "code",
   "execution_count": 16,
   "id": "391b2ffa-86f9-4ad4-88ac-e8d46ec531d9",
   "metadata": {},
   "outputs": [
    {
     "data": {
      "text/plain": [
       "array([1.        , 3.66666667, 6.33333333, 9.        ])"
      ]
     },
     "execution_count": 16,
     "metadata": {},
     "output_type": "execute_result"
    }
   ],
   "source": [
    "arr4 = np.linspace(1,9,4)\n",
    "arr4"
   ]
  },
  {
   "cell_type": "code",
   "execution_count": 17,
   "id": "d5476c4a-4219-4a3c-bf59-d6da0a4ffa93",
   "metadata": {},
   "outputs": [
    {
     "data": {
      "text/plain": [
       "array([1.        , 1.00806452, 1.01612903, 1.02419355, 1.03225806,\n",
       "       1.04032258, 1.0483871 , 1.05645161, 1.06451613, 1.07258065,\n",
       "       1.08064516, 1.08870968, 1.09677419, 1.10483871, 1.11290323,\n",
       "       1.12096774, 1.12903226, 1.13709677, 1.14516129, 1.15322581,\n",
       "       1.16129032, 1.16935484, 1.17741935, 1.18548387, 1.19354839,\n",
       "       1.2016129 , 1.20967742, 1.21774194, 1.22580645, 1.23387097,\n",
       "       1.24193548, 1.25      , 1.25806452, 1.26612903, 1.27419355,\n",
       "       1.28225806, 1.29032258, 1.2983871 , 1.30645161, 1.31451613,\n",
       "       1.32258065, 1.33064516, 1.33870968, 1.34677419, 1.35483871,\n",
       "       1.36290323, 1.37096774, 1.37903226, 1.38709677, 1.39516129,\n",
       "       1.40322581, 1.41129032, 1.41935484, 1.42741935, 1.43548387,\n",
       "       1.44354839, 1.4516129 , 1.45967742, 1.46774194, 1.47580645,\n",
       "       1.48387097, 1.49193548, 1.5       , 1.50806452, 1.51612903,\n",
       "       1.52419355, 1.53225806, 1.54032258, 1.5483871 , 1.55645161,\n",
       "       1.56451613, 1.57258065, 1.58064516, 1.58870968, 1.59677419,\n",
       "       1.60483871, 1.61290323, 1.62096774, 1.62903226, 1.63709677,\n",
       "       1.64516129, 1.65322581, 1.66129032, 1.66935484, 1.67741935,\n",
       "       1.68548387, 1.69354839, 1.7016129 , 1.70967742, 1.71774194,\n",
       "       1.72580645, 1.73387097, 1.74193548, 1.75      , 1.75806452,\n",
       "       1.76612903, 1.77419355, 1.78225806, 1.79032258, 1.7983871 ,\n",
       "       1.80645161, 1.81451613, 1.82258065, 1.83064516, 1.83870968,\n",
       "       1.84677419, 1.85483871, 1.86290323, 1.87096774, 1.87903226,\n",
       "       1.88709677, 1.89516129, 1.90322581, 1.91129032, 1.91935484,\n",
       "       1.92741935, 1.93548387, 1.94354839, 1.9516129 , 1.95967742,\n",
       "       1.96774194, 1.97580645, 1.98387097, 1.99193548, 2.        ])"
      ]
     },
     "execution_count": 17,
     "metadata": {},
     "output_type": "execute_result"
    }
   ],
   "source": [
    "arr5 = np.linspace(1,2,125)\n",
    "arr5"
   ]
  },
  {
   "cell_type": "code",
   "execution_count": 24,
   "id": "1463ad6d-daf3-40a4-9b0a-cae2d254a411",
   "metadata": {},
   "outputs": [
    {
     "name": "stdout",
     "output_type": "stream",
     "text": [
      "Dimension -  1\n",
      "shape -  (125,)\n",
      "size(No. Of Elements) -  125\n",
      "Datatype -  float64\n"
     ]
    }
   ],
   "source": [
    "info_array(arr5)"
   ]
  },
  {
   "cell_type": "code",
   "execution_count": 38,
   "id": "34799300-8fc1-464a-8017-a9555133630c",
   "metadata": {},
   "outputs": [
    {
     "data": {
      "text/plain": [
       "array([ 1.,  2.,  3.,  4.,  5.,  6.,  7.,  8.,  9., 10., 11., 12., 13.,\n",
       "       14., 15., 16., 17., 18., 19., 20., 21., 22., 23., 24.])"
      ]
     },
     "execution_count": 38,
     "metadata": {},
     "output_type": "execute_result"
    }
   ],
   "source": [
    "arr6 = np.linspace(1,24,24)\n",
    "arr6"
   ]
  },
  {
   "cell_type": "code",
   "execution_count": 39,
   "id": "9575e567-ce32-4124-b73e-d22622ca7d0d",
   "metadata": {},
   "outputs": [
    {
     "data": {
      "text/plain": [
       "(24,)"
      ]
     },
     "execution_count": 39,
     "metadata": {},
     "output_type": "execute_result"
    }
   ],
   "source": [
    "arr6.shape"
   ]
  },
  {
   "cell_type": "code",
   "execution_count": 40,
   "id": "8bcf8d78-8ee5-42a3-b749-774e7202b9f0",
   "metadata": {},
   "outputs": [
    {
     "data": {
      "text/plain": [
       "array([[ 1.,  2.,  3.,  4.,  5.,  6.],\n",
       "       [ 7.,  8.,  9., 10., 11., 12.],\n",
       "       [13., 14., 15., 16., 17., 18.],\n",
       "       [19., 20., 21., 22., 23., 24.]])"
      ]
     },
     "execution_count": 40,
     "metadata": {},
     "output_type": "execute_result"
    }
   ],
   "source": [
    "arr6.reshape(4,6)"
   ]
  },
  {
   "cell_type": "code",
   "execution_count": 42,
   "id": "3228942d-8d7a-473d-8b87-116ca029adcd",
   "metadata": {},
   "outputs": [
    {
     "data": {
      "text/plain": [
       "array([[1, 2, 3],\n",
       "       [4, 5, 6]])"
      ]
     },
     "execution_count": 42,
     "metadata": {},
     "output_type": "execute_result"
    }
   ],
   "source": [
    "arr8 = np.arange(1,7).reshape(2,3)\n",
    "arr8"
   ]
  },
  {
   "cell_type": "code",
   "execution_count": 43,
   "id": "447f92b5-1b44-4fd0-b7a0-fbd6f05e6205",
   "metadata": {},
   "outputs": [
    {
     "data": {
      "text/plain": [
       "array([[ 7,  8,  9],\n",
       "       [10, 11, 12]])"
      ]
     },
     "execution_count": 43,
     "metadata": {},
     "output_type": "execute_result"
    }
   ],
   "source": [
    "arr9 = np.arange(7,13).reshape(2,3)\n",
    "arr9"
   ]
  },
  {
   "cell_type": "code",
   "execution_count": 44,
   "id": "2fd0e74f-78e7-46d0-a4f9-3e2380a8edac",
   "metadata": {},
   "outputs": [
    {
     "data": {
      "text/plain": [
       "array([[ 1,  2,  3],\n",
       "       [ 4,  5,  6],\n",
       "       [ 7,  8,  9],\n",
       "       [10, 11, 12]])"
      ]
     },
     "execution_count": 44,
     "metadata": {},
     "output_type": "execute_result"
    }
   ],
   "source": [
    "np.concatenate([arr8,arr9])"
   ]
  },
  {
   "cell_type": "code",
   "execution_count": 45,
   "id": "e0205ba4-e63b-41ce-9ed8-68956f75fb2e",
   "metadata": {},
   "outputs": [
    {
     "data": {
      "text/plain": [
       "array([[ 1,  2,  3,  7,  8,  9],\n",
       "       [ 4,  5,  6, 10, 11, 12]])"
      ]
     },
     "execution_count": 45,
     "metadata": {},
     "output_type": "execute_result"
    }
   ],
   "source": [
    "np.concatenate([arr8,arr9],axis=1)"
   ]
  },
  {
   "cell_type": "code",
   "execution_count": null,
   "id": "32d5f4f3-3177-4b58-a9a6-2c177332249e",
   "metadata": {},
   "outputs": [],
   "source": [
    "### hstack(Horizontal Stack):-  used to stack array in horizontal mannaer- column join\n",
    "### vstack(Vertical Stack):- used to stack array in vertical mannaer- horizontal join"
   ]
  }
 ],
 "metadata": {
  "kernelspec": {
   "display_name": "Python 3 (ipykernel)",
   "language": "python",
   "name": "python3"
  },
  "language_info": {
   "codemirror_mode": {
    "name": "ipython",
    "version": 3
   },
   "file_extension": ".py",
   "mimetype": "text/x-python",
   "name": "python",
   "nbconvert_exporter": "python",
   "pygments_lexer": "ipython3",
   "version": "3.11.5"
  }
 },
 "nbformat": 4,
 "nbformat_minor": 5
}
